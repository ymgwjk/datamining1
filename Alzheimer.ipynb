{
 "cells": [
  {
   "cell_type": "markdown",
   "metadata": {
    "collapsed": false,
    "jupyter": {
     "outputs_hidden": false
    }
   },
   "source": [
    "# Alzheimer Disease and Healthy Aging Data in US的数据分析与处理\n",
    "\n",
    "## 1. 摘要分析和可视化\n",
    "\n",
    "### 摘要分析\n",
    "首先编写分析数据摘要的函数，如下。其中`calc_5num_abstract()`函数用来计算数值属性的五数概括，`analyze_abstract_github()`用来进行数据摘要的提取，之后`print_abstract()`函数用来在控制台打印分析结果，`save_abstract()`用于将分析结果保存为.csv格式。"
   ]
  },
  {
   "cell_type": "code",
   "execution_count": 1,
   "metadata": {
    "ExecuteTime": {
     "start_time": "2024-03-24T23:22:40.774611Z",
     "end_time": "2024-03-24T23:22:41.191451Z"
    },
    "collapsed": false,
    "jupyter": {
     "outputs_hidden": false
    }
   },
   "outputs": [],
   "source": [
    "import pandas as pd\n",
    "import numpy as np\n",
    "import os\n",
    "\n",
    "\n",
    "def calc_5num_abstract(arr: np.ndarray):\n",
    "    n_max = np.nanmax(arr)\n",
    "    n_min = np.nanmin(arr)\n",
    "    q1 = np.percentile(arr, 25)\n",
    "    median = np.nanmedian(arr)\n",
    "    q3 = np.percentile(arr, 75)\n",
    "    return n_min, q1, median, q3, n_max\n",
    "\n",
    "\n",
    "def analyze_abstract_github(df: pd.DataFrame) -> dict:\n",
    "    print(\"analyzing data\")\n",
    "    analyze_results = {}\n",
    "    for col in df.columns:\n",
    "        if df[col].dtype == object:\n",
    "            count = df[col].value_counts()\n",
    "            df_meta = {col: count.index, \"count\": count.values}\n",
    "            analyze_results[col] = pd.DataFrame(df_meta)\n",
    "        else:\n",
    "            values = df[col].values\n",
    "            mask = np.isnan(values)\n",
    "            if len(values[np.logical_not(mask)]) == 0:\n",
    "                print(f\"The column {col} has no data.\")\n",
    "                continue\n",
    "            n_min, q1, median, q3, n_max = calc_5num_abstract(values[np.logical_not(mask)])\n",
    "            null_calc = df[col].isnull().sum()\n",
    "            res = pd.DataFrame(\n",
    "                {\"min\": [n_min], \"Q1\": [q1], \"median\": [median], \"Q3\": [q3], \"max\": [n_max], \"blanks\": [null_calc]})\n",
    "            analyze_results[col] = res\n",
    "    return analyze_results\n",
    "\n",
    "\n",
    "def print_abstract(result):\n",
    "    for k, v in result.items():\n",
    "        print(k, v.to_string(index=False, max_rows=20), sep=\"\\n\")\n",
    "        print()\n",
    "\n",
    "\n",
    "def save_abstract(path, result):\n",
    "    os.makedirs(path, exist_ok=True)\n",
    "    for k, v in result.items():\n",
    "        v.to_csv(os.path.join(path, f\"{k}.csv\"), index=False)"
   ]
  },
  {
   "cell_type": "markdown",
   "metadata": {
    "collapsed": false,
    "jupyter": {
     "outputs_hidden": false
    }
   },
   "source": [
    "下面的代码用来实现摘要分析。"
   ]
  },
  {
   "cell_type": "code",
   "execution_count": 2,
   "metadata": {
    "ExecuteTime": {
     "start_time": "2024-03-24T23:22:41.021490Z",
     "end_time": "2024-03-24T23:22:41.926736Z"
    },
    "collapsed": false,
    "jupyter": {
     "outputs_hidden": false
    }
   },
   "outputs": [
    {
     "name": "stdout",
     "output_type": "stream",
     "text": [
      "Analyzing Alzheimer Disease and Healthy Aging Data In US.csv\n"
     ]
    },
    {
     "name": "stderr",
     "output_type": "stream",
     "text": [
      "C:\\Users\\LEGION\\AppData\\Local\\Temp\\ipykernel_22900\\265366865.py:2: DtypeWarning: Columns (13,14) have mixed types. Specify dtype option on import or set low_memory=False.\n",
      "  df_alzheimer_data = pd.read_csv(\"data/alzheimer/Alzheimer Disease and Healthy Aging Data In US.csv\")\n"
     ]
    },
    {
     "name": "stdout",
     "output_type": "stream",
     "text": [
      "analyzing data\n",
      "The column Sample_Size has no data.\n",
      "YearStart\n",
      " min     Q1  median     Q3  max  blanks\n",
      "2015 2016.0  2017.0 2019.0 2020       0\n",
      "\n",
      "YearEnd\n",
      " min     Q1  median     Q3  max  blanks\n",
      "2015 2016.0  2018.0 2019.0 2020       0\n",
      "\n",
      "LocationAbbr\n",
      "LocationAbbr  count\n",
      "          US   4644\n",
      "        WEST   4638\n",
      "         NRE   4614\n",
      "         MDW   4611\n",
      "          OR   4565\n",
      "          NY   4557\n",
      "         SOU   4542\n",
      "          UT   4222\n",
      "          OH   3955\n",
      "          GA   3951\n",
      "         ...    ...\n",
      "          NC   3349\n",
      "          WA   3348\n",
      "          MT   3348\n",
      "          DE   3346\n",
      "          NH   3284\n",
      "          VT   3278\n",
      "          MA   3174\n",
      "          PR   2797\n",
      "          GU   2703\n",
      "          VI    503\n",
      "\n",
      "LocationDesc\n",
      "                   LocationDesc  count\n",
      "United States, DC & Territories   4644\n",
      "                           West   4638\n",
      "                      Northeast   4614\n",
      "                        Midwest   4611\n",
      "                         Oregon   4565\n",
      "                       New York   4557\n",
      "                          South   4542\n",
      "                           Utah   4222\n",
      "                           Ohio   3955\n",
      "                        Georgia   3951\n",
      "                            ...    ...\n",
      "                 North Carolina   3349\n",
      "                     Washington   3348\n",
      "                        Montana   3348\n",
      "                       Delaware   3346\n",
      "                  New Hampshire   3284\n",
      "                        Vermont   3278\n",
      "                  Massachusetts   3174\n",
      "                    Puerto Rico   2797\n",
      "                           Guam   2703\n",
      "                 Virgin Islands    503\n",
      "\n",
      "Datasource\n",
      "Datasource  count\n",
      "     BRFSS 214462\n",
      "\n",
      "Class\n",
      "                              Class  count\n",
      "                     Overall Health  71694\n",
      "            Screenings and Vaccines  46867\n",
      "Nutrition/Physical Activity/Obesity  24851\n",
      "                  Cognitive Decline  19180\n",
      "                         Caregiving  18671\n",
      "                      Mental Health  16600\n",
      "            Smoking and Alcohol Use  16599\n",
      "\n",
      "Topic\n",
      "                                                                   Topic  count\n",
      "                                                                 Obesity   8300\n",
      "                                      Influenza vaccine within past year   8300\n",
      "                         Physically unhealthy days (mean number of days)   8300\n",
      "                                                Frequent mental distress   8300\n",
      "                                                         Current smoking   8300\n",
      "                                        Lifetime diagnosis of depression   8300\n",
      "                     No leisure-time physical activity within past month   8300\n",
      "                                 Self-rated health (fair to poor health)   8299\n",
      "                            Self-rated health (good to excellent health)   8299\n",
      "                                      Binge drinking within past 30 days   8299\n",
      "                                                                     ...    ...\n",
      "                     Severe joint pain among older adults with arthritis   4064\n",
      "                Provide care for a friend or family member in past month   3848\n",
      "                Expect to provide care for someone in the next two years   3797\n",
      "Provide care for someone with cognitive impairment within the past month   3682\n",
      "                               Duration of caregiving among older adults   3681\n",
      "                              Intensity of caregiving among older adults   3663\n",
      "             Up-to-date with recommended vaccines and screenings - Women   3280\n",
      "               Up-to-date with recommended vaccines and screenings - Men   3271\n",
      "                                           Mammogram within past 2 years   3271\n",
      "                                            Pap test within past 3 years   3242\n",
      "\n",
      "Question\n",
      "                                                                                                                                 Question  count\n",
      "                                           Percentage of older adults who are currently obese, with a body mass index (BMI) of 30 or more   8300\n",
      "                                                           Percentage of older adults who reported influenza vaccine within the past year   8300\n",
      "                                                                            Physically unhealthy days (mean number of days in past month)   8300\n",
      "                                                                 Percentage of older adults who are experiencing frequent mental distress   8300\n",
      "           Percentage of older adults who have smoked at least 100 cigarettes in their entire life and still smoke every day or some days   8300\n",
      "                                                                       Percentage of older adults with a lifetime diagnosis of depression   8300\n",
      "                                         Percentage of older adults who have not had any leisure time physical activity in the past month   8300\n",
      "                                                       Percentage of older adults who self-reported that their health is \"fair\" or \"poor\"   8299\n",
      "                                    Percentage of older adults who self-reported that their health is \"good\", \"very good\", or \"excellent\"   8299\n",
      "                                                           Percentage of older adults who reported binge drinking within the past 30 days   8299\n",
      "                                                                                                                                      ...    ...\n",
      "                                                    Severe joint pain due to arthritis among older adults with doctor-diagnosed arthritis   4064\n",
      "                                         Percentage of older adults who provided care for a friend or family member within the past month   3848\n",
      "Percentage of older adults currently not providing care who expect to provide care for someone with health problems in the next two years   3797\n",
      "               Percentage of older adults who provided care for someone with dementia or other cognitive impairment within the past month   3682\n",
      "                                         Percentage of older adults who provided care to a friend or family member for six months or more   3681\n",
      "                                                       Average of 20 or more hours of care per week provided to a friend or family member   3663\n",
      "                                              Percentage of older adult women who are up to date with select clinical preventive services   3280\n",
      "                                                Percentage of older adult men who are up to date with select clinical preventive services   3271\n",
      "                                                    Percentage of older adult women who have received a mammogram within the past 2 years   3271\n",
      "                                         Percentage of older adult women with an intact cervix who had a Pap test within the past 3 years   3242\n",
      "\n",
      "Data_Value_Unit\n",
      "Data_Value_Unit  count\n",
      "              % 197929\n",
      "         Number  16533\n",
      "\n",
      "DataValueTypeID\n",
      "DataValueTypeID  count\n",
      "          PRCTG 197929\n",
      "           MEAN  16533\n",
      "\n",
      "Data_Value_Type\n",
      "Data_Value_Type  count\n",
      "     Percentage 197929\n",
      "           Mean  16533\n",
      "\n",
      "Data_Value\n",
      " min   Q1  median   Q3   max  blanks\n",
      " 0.0 15.3    32.5 56.8 100.0   69833\n",
      "\n",
      "Data_Value_Alt\n",
      " min   Q1  median   Q3   max  blanks\n",
      " 0.0 15.3    32.5 56.8 100.0   69833\n",
      "\n",
      "Low_Confidence_Limit\n",
      "Low_Confidence_Limit  count\n",
      "                 5.4    350\n",
      "                 5.1    318\n",
      "                 4.8    314\n",
      "                 5.3    313\n",
      "                   5    305\n",
      "                 4.7    298\n",
      "                 4.9    298\n",
      "                 4.6    296\n",
      "                 5.6    296\n",
      "                 5.7    292\n",
      "                 ...    ...\n",
      "                99.6      1\n",
      "                98.1      1\n",
      "                98.1      1\n",
      "                99.5      1\n",
      "                98.8      1\n",
      "                96.8      1\n",
      "                98.4      1\n",
      "                 0.9      1\n",
      "                97.8      1\n",
      "                99.4      1\n",
      "\n",
      "High_Confidence_Limit\n",
      "High_Confidence_Limit  count\n",
      "                  6.5    216\n",
      "                  5.8    193\n",
      "                  6.8    192\n",
      "                  6.7    189\n",
      "                  7.5    186\n",
      "                  5.5    186\n",
      "                  6.6    185\n",
      "                  6.9    177\n",
      "                    6    177\n",
      "                  6.4    177\n",
      "                  ...    ...\n",
      "                  100      2\n",
      "                  2.3      2\n",
      "                  1.4      2\n",
      "                  1.9      1\n",
      "                  2.5      1\n",
      "                  1.7      1\n",
      "                  2.8      1\n",
      "                  2.8      1\n",
      "                  1.5      1\n",
      "                  1.6      1\n",
      "\n",
      "StratificationCategory1\n",
      "StratificationCategory1  count\n",
      "              Age Group 214462\n",
      "\n",
      "Stratification1\n",
      "  Stratification1  count\n",
      "          Overall  71919\n",
      "      50-64 years  71528\n",
      "65 years or older  71015\n",
      "\n",
      "StratificationCategory2\n",
      "StratificationCategory2  count\n",
      "         Race/Ethnicity 134959\n",
      "                 Gender  51834\n",
      "\n",
      "Stratification2\n",
      "         Stratification2  count\n",
      "     White, non-Hispanic  27633\n",
      "                Hispanic  27525\n",
      "     Black, non-Hispanic  26968\n",
      "Native Am/Alaskan Native  26571\n",
      "  Asian/Pacific Islander  26262\n",
      "                  Female  26091\n",
      "                    Male  25743\n",
      "\n",
      "Geolocation\n",
      "                     Geolocation  count\n",
      "POINT (-120.1550313 44.56744942)   4565\n",
      "POINT (-75.54397043 42.82700103)   4557\n",
      "POINT (-111.5871306 39.36070017)   4222\n",
      "POINT (-82.40426006 40.06021014)   3955\n",
      "POINT (-83.62758035 32.83968109)   3951\n",
      "POINT (-76.60926011 39.29058096)   3919\n",
      "POINT (-157.8577494 21.30485044)   3907\n",
      "POINT (-85.77449091 35.68094058)   3879\n",
      "POINT (-84.71439027 44.66131954)   3796\n",
      "POINT (-78.45789046 37.54268067)   3758\n",
      "                             ...    ...\n",
      "POINT (-79.15925046 35.46622098)   3349\n",
      "POINT (-109.4244206 47.06652897)   3348\n",
      "POINT (-120.4700108 47.52227863)   3348\n",
      "POINT (-75.57774117 39.00883067)   3346\n",
      "POINT (-71.50036092 43.65595011)   3284\n",
      "POINT (-72.51764079 43.62538124)   3278\n",
      "POINT (-72.08269067 42.27687047)   3174\n",
      "    POINT (-66.590149 18.220833)   2797\n",
      "    POINT (144.793731 13.444304)   2703\n",
      "    POINT (-64.896335 18.335765)    503\n",
      "\n",
      "ClassID\n",
      "ClassID  count\n",
      "    C01  71694\n",
      "    C03  46867\n",
      "    C02  24851\n",
      "    C06  19180\n",
      "    C07  18671\n",
      "    C05  16600\n",
      "    C04  16599\n",
      "\n",
      "TopicID\n",
      "TopicID  count\n",
      "  TNC04   8300\n",
      "  TSC08   8300\n",
      "  TOC01   8300\n",
      "  TMC01   8300\n",
      "  TAC01   8300\n",
      "  TMC03   8300\n",
      "  TNC03   8300\n",
      "  TOC07   8299\n",
      "  TOC08   8299\n",
      "  TAC03   8299\n",
      "    ...    ...\n",
      "  TOC12   4064\n",
      "  TGC01   3848\n",
      "  TGC02   3797\n",
      "  TGC05   3682\n",
      "  TGC03   3681\n",
      "  TGC04   3663\n",
      "  TSC11   3280\n",
      "  TSC10   3271\n",
      "  TSC01   3271\n",
      "  TSC03   3242\n",
      "\n",
      "QuestionID\n",
      "QuestionID  count\n",
      "       Q13   8300\n",
      "       Q18   8300\n",
      "       Q08   8300\n",
      "       Q03   8300\n",
      "       Q17   8300\n",
      "       Q27   8300\n",
      "       Q16   8300\n",
      "       Q32   8299\n",
      "       Q33   8299\n",
      "       Q21   8299\n",
      "       ...    ...\n",
      "       Q44   4064\n",
      "       Q36   3848\n",
      "       Q37   3797\n",
      "       Q40   3682\n",
      "       Q38   3681\n",
      "       Q39   3663\n",
      "       Q11   3280\n",
      "       Q10   3271\n",
      "       Q12   3271\n",
      "       Q20   3242\n",
      "\n",
      "LocationID\n",
      " min   Q1  median   Q3  max  blanks\n",
      "   1 18.0    33.0 49.0 9004       0\n",
      "\n",
      "StratificationCategoryID1\n",
      "StratificationCategoryID1  count\n",
      "                      AGE 214462\n",
      "\n",
      "StratificationID1\n",
      "StratificationID1  count\n",
      "      AGE_OVERALL  71919\n",
      "             5064  71528\n",
      "           65PLUS  71015\n",
      "\n",
      "StratificationCategoryID2\n",
      "StratificationCategoryID2  count\n",
      "                     RACE 134959\n",
      "                   GENDER  51834\n",
      "                  OVERALL  27669\n",
      "\n",
      "StratificationID2\n",
      "StratificationID2  count\n",
      "          OVERALL  27669\n",
      "              WHT  27633\n",
      "              HIS  27525\n",
      "              BLK  26968\n",
      "              NAA  26571\n",
      "              ASN  26262\n",
      "           FEMALE  26091\n",
      "             MALE  25743\n",
      "\n"
     ]
    }
   ],
   "source": [
    "print(\"Analyzing Alzheimer Disease and Healthy Aging Data In US.csv\")\n",
    "df_alzheimer_data = pd.read_csv(\"data/alzheimer/Alzheimer Disease and Healthy Aging Data In US.csv\")\n",
    "res = analyze_abstract_github(df_alzheimer_data)\n",
    "result_dir = \"result/alzheimer/\"\n",
    "print_abstract(res)\n",
    "save_abstract(result_dir, res)"
   ]
  },
  {
   "cell_type": "markdown",
   "metadata": {
    "collapsed": false,
    "jupyter": {
     "outputs_hidden": false
    }
   },
   "source": [
    "运行结束后，可以在`./result/alzheimer`目录中找到摘要分析结果。对于标称数据，表格包含两列：可能取值及其频数；对于数值数据，表格中包含6列，分别是`min`（最小值）、`Q1`（第一四分位数）、`median`（中位数）、`Q3`（第三四分位数）、`max`（最大值）、`blanks`（缺失数据个数。"
   ]
  },
  {
   "cell_type": "markdown",
   "metadata": {
    "collapsed": false,
    "jupyter": {
     "outputs_hidden": false
    }
   },
   "source": [
    "### 数据可视化\n",
    "\n",
    "下面对Alzheimer Disease and Healthy Aging Data In US.csv的数据进行可视化，包含直方图、盒图。下面分别对两种图编写可视化函数。"
   ]
  },
  {
   "cell_type": "code",
   "execution_count": 3,
   "metadata": {
    "ExecuteTime": {
     "start_time": "2024-03-24T23:22:41.881447Z",
     "end_time": "2024-03-24T23:22:41.926736Z"
    },
    "collapsed": false,
    "jupyter": {
     "outputs_hidden": false
    }
   },
   "outputs": [],
   "source": [
    "def draw_histogram(df: pd.DataFrame):\n",
    "    for col in df.columns:\n",
    "        if df[col].dtype != object and len(df[~df[col].isnull()]) > 0:\n",
    "            df.hist(column=col, bins=100)\n",
    "\n",
    "\n",
    "def draw_boxgram(df: pd.DataFrame, columns=None):\n",
    "    if columns is None:\n",
    "        df.boxplot()\n",
    "    else:\n",
    "        df.boxplot(column=columns)"
   ]
  },
  {
   "cell_type": "markdown",
   "metadata": {
    "collapsed": false,
    "jupyter": {
     "outputs_hidden": false
    }
   },
   "source": [
    "直方图"
   ]
  },
  {
   "cell_type": "code",
   "execution_count": 4,
   "metadata": {
    "ExecuteTime": {
     "start_time": "2024-03-24T23:22:41.894739Z",
     "end_time": "2024-03-24T23:22:43.237578Z"
    },
    "collapsed": false,
    "jupyter": {
     "outputs_hidden": false
    }
   },
   "outputs": [
    {
     "data": {
      "text/plain": "<Figure size 640x480 with 1 Axes>",
      "image/png": "[encoded data removed]"
     },
     "metadata": {},
     "output_type": "display_data"
    },
    {
     "data": {
      "text/plain": "<Figure size 640x480 with 1 Axes>",
      "image/png": "[encoded data removed]"
     },
     "metadata": {},
     "output_type": "display_data"
    },
    {
     "data": {
      "text/plain": "<Figure size 640x480 with 1 Axes>",
      "image/png": "[encoded data removed]"
     },
     "metadata": {},
     "output_type": "display_data"
    },
    {
     "data": {
      "text/plain": "<Figure size 640x480 with 1 Axes>",
      "image/png": "[encoded data removed]"
     },
     "metadata": {},
     "output_type": "display_data"
    },
    {
     "data": {
      "text/plain": "<Figure size 640x480 with 1 Axes>",
      "image/png": "[encoded data removed]"
     },
     "metadata": {},
     "output_type": "display_data"
    }
   ],
   "source": [
    "draw_histogram(df_alzheimer_data)"
   ]
  },
  {
   "cell_type": "markdown",
   "metadata": {
    "collapsed": false,
    "jupyter": {
     "outputs_hidden": false
    }
   },
   "source": [
    "盒图"
   ]
  },
  {
   "cell_type": "code",
   "execution_count": 5,
   "metadata": {
    "ExecuteTime": {
     "start_time": "2024-03-24T23:22:43.217490Z",
     "end_time": "2024-03-24T23:22:43.408100Z"
    },
    "collapsed": false,
    "jupyter": {
     "outputs_hidden": false
    }
   },
   "outputs": [
    {
     "data": {
      "text/plain": "<Figure size 640x480 with 1 Axes>",
      "image/png": "[encoded data removed]"
     },
     "metadata": {},
     "output_type": "display_data"
    }
   ],
   "source": [
    "draw_boxgram(df_alzheimer_data, columns=\"YearStart\")"
   ]
  },
  {
   "cell_type": "code",
   "execution_count": 6,
   "outputs": [
    {
     "data": {
      "text/plain": "<Figure size 640x480 with 1 Axes>",
      "image/png": "[encoded data removed]"
     },
     "metadata": {},
     "output_type": "display_data"
    }
   ],
   "source": [
    "draw_boxgram(df_alzheimer_data, columns=\"YearEnd\")"
   ],
   "metadata": {
    "collapsed": false,
    "ExecuteTime": {
     "start_time": "2024-03-24T23:22:43.376017Z",
     "end_time": "2024-03-24T23:22:43.538299Z"
    }
   }
  },
  {
   "cell_type": "code",
   "execution_count": 7,
   "outputs": [
    {
     "data": {
      "text/plain": "<Figure size 640x480 with 1 Axes>",
      "image/png": "[encoded data removed]"
     },
     "metadata": {},
     "output_type": "display_data"
    }
   ],
   "source": [
    "draw_boxgram(df_alzheimer_data, columns=\"Data_Value\")"
   ],
   "metadata": {
    "collapsed": false,
    "ExecuteTime": {
     "start_time": "2024-03-24T23:22:43.539299Z",
     "end_time": "2024-03-24T23:22:43.711768Z"
    }
   }
  },
  {
   "cell_type": "code",
   "execution_count": 8,
   "outputs": [
    {
     "data": {
      "text/plain": "<Figure size 640x480 with 1 Axes>",
      "image/png": "[encoded data removed]"
     },
     "metadata": {},
     "output_type": "display_data"
    }
   ],
   "source": [
    "draw_boxgram(df_alzheimer_data, columns=\"Data_Value_Alt\")"
   ],
   "metadata": {
    "collapsed": false,
    "ExecuteTime": {
     "start_time": "2024-03-24T23:22:43.711768Z",
     "end_time": "2024-03-24T23:22:43.845818Z"
    }
   }
  },
  {
   "cell_type": "code",
   "execution_count": 9,
   "outputs": [
    {
     "data": {
      "text/plain": "<Figure size 640x480 with 1 Axes>",
      "image/png": "[encoded data removed]"
     },
     "metadata": {},
     "output_type": "display_data"
    }
   ],
   "source": [
    "draw_boxgram(df_alzheimer_data, columns=\"LocationID\")"
   ],
   "metadata": {
    "collapsed": false,
    "ExecuteTime": {
     "start_time": "2024-03-24T23:22:43.845818Z",
     "end_time": "2024-03-24T23:22:44.023518Z"
    }
   }
  },
  {
   "cell_type": "markdown",
   "metadata": {
    "collapsed": false,
    "jupyter": {
     "outputs_hidden": false
    }
   },
   "source": [
    "## 2. 数据缺失处理"
   ]
  },
  {
   "cell_type": "markdown",
   "source": [
    "先寻找缺失的列"
   ],
   "metadata": {
    "collapsed": false
   }
  },
  {
   "cell_type": "code",
   "execution_count": 10,
   "outputs": [
    {
     "name": "stdout",
     "output_type": "stream",
     "text": [
      "Data_Value\n",
      "Data_Value_Alt\n",
      "Sample_Size\n"
     ]
    }
   ],
   "source": [
    "for col in df_alzheimer_data.columns:\n",
    "    if df_alzheimer_data[col].isnull().sum() > 0 and df_alzheimer_data[col].dtype != object:\n",
    "        print(col)"
   ],
   "metadata": {
    "collapsed": false,
    "ExecuteTime": {
     "start_time": "2024-03-24T23:22:44.023518Z",
     "end_time": "2024-03-24T23:22:44.149221Z"
    }
   }
  },
  {
   "cell_type": "markdown",
   "metadata": {
    "collapsed": false,
    "jupyter": {
     "outputs_hidden": false
    }
   },
   "source": [
    "首先是缺失数据剔除。由于Sample_Size列均为null，因此剔除该列："
   ]
  },
  {
   "cell_type": "code",
   "execution_count": 11,
   "metadata": {
    "ExecuteTime": {
     "start_time": "2024-03-24T23:22:44.149221Z",
     "end_time": "2024-03-24T23:22:44.159248Z"
    },
    "collapsed": false,
    "jupyter": {
     "outputs_hidden": false
    }
   },
   "outputs": [
    {
     "name": "stdout",
     "output_type": "stream",
     "text": [
      "(214462, 29)\n"
     ]
    }
   ],
   "source": [
    "print(df_alzheimer_data.shape)"
   ]
  },
  {
   "cell_type": "code",
   "execution_count": 12,
   "metadata": {
    "ExecuteTime": {
     "start_time": "2024-03-24T23:22:44.159248Z",
     "end_time": "2024-03-24T23:22:44.219594Z"
    },
    "collapsed": false,
    "jupyter": {
     "outputs_hidden": false
    }
   },
   "outputs": [
    {
     "name": "stdout",
     "output_type": "stream",
     "text": [
      "(214462, 28)\n"
     ]
    }
   ],
   "source": [
    "df = df_alzheimer_data.copy()\n",
    "del df[\"Sample_Size\"]\n",
    "print(df.shape)"
   ]
  },
  {
   "cell_type": "markdown",
   "metadata": {
    "collapsed": false,
    "jupyter": {
     "outputs_hidden": false
    }
   },
   "source": [
    "删除了一列数据。\n",
    "\n",
    "第二个是用最高频率值填补缺失值"
   ]
  },
  {
   "cell_type": "code",
   "execution_count": 13,
   "outputs": [
    {
     "name": "stdout",
     "output_type": "stream",
     "text": [
      "32       NaN\n",
      "33       NaN\n",
      "42       NaN\n",
      "47       NaN\n",
      "48       NaN\n",
      "          ..\n",
      "214456   NaN\n",
      "214457   NaN\n",
      "214458   NaN\n",
      "214459   NaN\n",
      "214461   NaN\n",
      "Name: Data_Value, Length: 69833, dtype: float64\n"
     ]
    }
   ],
   "source": [
    "null_lines = df_alzheimer_data[\"Data_Value\"].isnull()\n",
    "print(df_alzheimer_data[null_lines][\"Data_Value\"])"
   ],
   "metadata": {
    "collapsed": false,
    "ExecuteTime": {
     "start_time": "2024-03-24T23:22:44.189433Z",
     "end_time": "2024-03-24T23:22:44.219594Z"
    }
   }
  },
  {
   "cell_type": "code",
   "execution_count": 14,
   "outputs": [
    {
     "name": "stdout",
     "output_type": "stream",
     "text": [
      "6.0\n"
     ]
    }
   ],
   "source": [
    "freq_max = df_alzheimer_data[\"Data_Value\"].value_counts().index[0]\n",
    "print(freq_max)"
   ],
   "metadata": {
    "collapsed": false,
    "ExecuteTime": {
     "start_time": "2024-03-24T23:22:44.209527Z",
     "end_time": "2024-03-24T23:22:44.221071Z"
    }
   }
  },
  {
   "cell_type": "code",
   "execution_count": 15,
   "metadata": {
    "ExecuteTime": {
     "start_time": "2024-03-24T23:22:44.222073Z",
     "end_time": "2024-03-24T23:22:44.285563Z"
    },
    "collapsed": false,
    "jupyter": {
     "outputs_hidden": false
    }
   },
   "outputs": [
    {
     "name": "stdout",
     "output_type": "stream",
     "text": [
      "32        6.0\n",
      "33        6.0\n",
      "42        6.0\n",
      "47        6.0\n",
      "48        6.0\n",
      "         ... \n",
      "214456    6.0\n",
      "214457    6.0\n",
      "214458    6.0\n",
      "214459    6.0\n",
      "214461    6.0\n",
      "Name: Data_Value, Length: 69833, dtype: float64\n"
     ]
    }
   ],
   "source": [
    "df = df_alzheimer_data[\"Data_Value\"].fillna(freq_max)\n",
    "print(df[null_lines])"
   ]
  },
  {
   "cell_type": "markdown",
   "metadata": {
    "collapsed": false,
    "jupyter": {
     "outputs_hidden": false
    }
   },
   "source": [
    "可以看到缺失值均被填充为了2.0（最大频率值）。\n",
    "\n",
    "下面使用平均数来填充缺失值。"
   ]
  },
  {
   "cell_type": "code",
   "execution_count": 16,
   "metadata": {
    "ExecuteTime": {
     "start_time": "2024-03-24T23:22:44.244833Z",
     "end_time": "2024-03-24T23:22:44.285563Z"
    },
    "collapsed": false,
    "jupyter": {
     "outputs_hidden": false
    }
   },
   "outputs": [
    {
     "name": "stdout",
     "output_type": "stream",
     "text": [
      "37.34195562439067\n"
     ]
    }
   ],
   "source": [
    "mean = df_alzheimer_data[\"Data_Value\"].mean()\n",
    "print(mean)"
   ]
  },
  {
   "cell_type": "code",
   "execution_count": 17,
   "metadata": {
    "ExecuteTime": {
     "start_time": "2024-03-24T23:22:44.254908Z",
     "end_time": "2024-03-24T23:22:44.285563Z"
    },
    "collapsed": false,
    "jupyter": {
     "outputs_hidden": false
    }
   },
   "outputs": [
    {
     "name": "stdout",
     "output_type": "stream",
     "text": [
      "32        37.341956\n",
      "33        37.341956\n",
      "42        37.341956\n",
      "47        37.341956\n",
      "48        37.341956\n",
      "            ...    \n",
      "214456    37.341956\n",
      "214457    37.341956\n",
      "214458    37.341956\n",
      "214459    37.341956\n",
      "214461    37.341956\n",
      "Name: Data_Value, Length: 69833, dtype: float64\n"
     ]
    }
   ],
   "source": [
    "df = df_alzheimer_data[\"Data_Value\"].fillna(mean)\n",
    "print(df[null_lines])"
   ]
  },
  {
   "cell_type": "markdown",
   "metadata": {
    "collapsed": false,
    "jupyter": {
     "outputs_hidden": false
    }
   },
   "source": [
    "空值均被填充为了平均数\n",
    "\n",
    "下面使用前后值来填充"
   ]
  },
  {
   "cell_type": "code",
   "execution_count": 18,
   "metadata": {
    "ExecuteTime": {
     "start_time": "2024-03-24T23:22:44.265477Z",
     "end_time": "2024-03-24T23:22:44.285563Z"
    },
    "collapsed": false,
    "jupyter": {
     "outputs_hidden": false
    }
   },
   "outputs": [
    {
     "name": "stdout",
     "output_type": "stream",
     "text": [
      "32        68.5\n",
      "33        68.5\n",
      "42         7.6\n",
      "47        41.5\n",
      "48        41.5\n",
      "          ... \n",
      "214456    18.7\n",
      "214457    18.7\n",
      "214458    18.7\n",
      "214459    18.7\n",
      "214461    10.6\n",
      "Name: Data_Value, Length: 69833, dtype: float64\n"
     ]
    }
   ],
   "source": [
    "df = df_alzheimer_data[\"Data_Value\"].fillna(method=\"pad\")\n",
    "print(df[null_lines])"
   ]
  }
 ],
 "metadata": {
  "kernelspec": {
   "display_name": "Python 3 (ipykernel)",
   "language": "python",
   "name": "python3"
  },
  "language_info": {
   "codemirror_mode": {
    "name": "ipython",
    "version": 3
   },
   "file_extension": ".py",
   "mimetype": "text/x-python",
   "name": "python",
   "nbconvert_exporter": "python",
   "pygments_lexer": "ipython3",
   "version": "3.9.1"
  }
 },
 "nbformat": 4,
 "nbformat_minor": 4
}
