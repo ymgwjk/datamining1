{
 "cells": [
  {
   "cell_type": "markdown",
   "metadata": {
    "collapsed": false,
    "jupyter": {
     "outputs_hidden": false
    }
   },
   "source": [
    "# Github Dataset的数据分析与处理\n",
    "\n",
    "## 1. 摘要分析和可视化\n",
    "\n",
    "### 摘要分析\n",
    "Github Dataset包含两个csv文件，两个文件中的结构较为相似，因此此处采用较大的文件——repository_data.csv进行分析。首先编写分析数据摘要的函数，如下。其中`calc_5num_abstract()`函数用来计算数值属性的五数概括，`analyze_abstract_github()`用来进行数据摘要的提取，之后`print_abstract()`函数用来在控制台打印分析结果，`save_abstract()`用于将分析结果保存为.csv格式。"
   ]
  },
  {
   "cell_type": "code",
   "execution_count": 1,
   "metadata": {
    "ExecuteTime": {
     "start_time": "2024-03-24T23:22:43.054109Z",
     "end_time": "2024-03-24T23:22:43.328324Z"
    },
    "collapsed": false,
    "jupyter": {
     "outputs_hidden": false
    }
   },
   "outputs": [],
   "source": [
    "import pandas as pd\n",
    "import numpy as np\n",
    "import os\n",
    "\n",
    "\n",
    "def calc_5num_abstract(arr: np.ndarray):\n",
    "    n_max = np.nanmax(arr)\n",
    "    n_min = np.nanmin(arr)\n",
    "    q1 = np.percentile(arr, 25)\n",
    "    median = np.nanmedian(arr)\n",
    "    q3 = np.percentile(arr, 75)\n",
    "    return n_min, q1, median, q3, n_max\n",
    "\n",
    "\n",
    "def analyze_abstract_github(df: pd.DataFrame) -> dict:\n",
    "    print(\"analyzing data\")\n",
    "    analyze_results = {}\n",
    "    for col in df.columns:\n",
    "        if df[col].dtype == object:\n",
    "            count = df[col].value_counts()\n",
    "            df_meta = {col: count.index, \"count\": count.values}\n",
    "            analyze_results[col] = pd.DataFrame(df_meta)\n",
    "        else:\n",
    "            values = df[col].values\n",
    "            mask = np.isnan(values)\n",
    "            n_min, q1, median, q3, n_max = calc_5num_abstract(values[np.logical_not(mask)])\n",
    "            null_calc = df[col].isnull().sum()\n",
    "            res = pd.DataFrame(\n",
    "                {\"min\": [n_min], \"Q1\": [q1], \"median\": [median], \"Q3\": [q3], \"max\": [n_max], \"blanks\": [null_calc]})\n",
    "            analyze_results[col] = res\n",
    "    return analyze_results\n",
    "\n",
    "\n",
    "def print_abstract(result):\n",
    "    for k, v in result.items():\n",
    "        print(k, v.to_string(index=False, max_rows=20), sep=\"\\n\")\n",
    "        print()\n",
    "\n",
    "\n",
    "def save_abstract(path, result):\n",
    "    os.makedirs(path, exist_ok=True)\n",
    "    for k, v in result.items():\n",
    "        v.to_csv(os.path.join(path, f\"{k}.csv\"), index=False)"
   ]
  },
  {
   "cell_type": "markdown",
   "metadata": {
    "collapsed": false,
    "jupyter": {
     "outputs_hidden": false
    }
   },
   "source": [
    "下面的代码用来实现摘要分析。"
   ]
  },
  {
   "cell_type": "code",
   "execution_count": 2,
   "metadata": {
    "ExecuteTime": {
     "start_time": "2024-03-24T23:22:43.298691Z",
     "end_time": "2024-03-24T23:22:54.160573Z"
    },
    "collapsed": false,
    "jupyter": {
     "outputs_hidden": false
    }
   },
   "outputs": [
    {
     "name": "stdout",
     "output_type": "stream",
     "text": [
      "Analyzing repository_data.csv\n",
      "analyzing data\n",
      "name\n",
      "                                 name  count\n",
      "                             dotfiles   5590\n",
      "                                 blog   2038\n",
      "                                 docs   1350\n",
      "                              website   1163\n",
      "                              scripts    649\n",
      "                                 core    619\n",
      "                             examples    615\n",
      "                            portfolio    579\n",
      "                                notes    507\n",
      "                                talks    477\n",
      "                                  ...    ...\n",
      "            awesome-harmonica-lessons      1\n",
      "                        fast-dataview      1\n",
      "                   Schwarze-Sonne-RAT      1\n",
      "                       ML-Papers-TLDR      1\n",
      "                          macports-ci      1\n",
      "             markdown-to-presentation      1\n",
      "                        moodle-client      1\n",
      "                 event-sourcing-graph      1\n",
      "               react-native-100-Demos      1\n",
      "MSI-Z690-Carbon-i7-12700KF-Hackintosh      1\n",
      "\n",
      "stars_count\n",
      " min  Q1  median   Q3    max  blanks\n",
      "   2 7.0    12.0 30.0 359805       0\n",
      "\n",
      "forks_count\n",
      " min  Q1  median   Q3    max  blanks\n",
      "   0 1.0     4.0 11.0 242208       0\n",
      "\n",
      "watchers\n",
      " min  Q1  median  Q3  max  blanks\n",
      "   0 2.0     3.0 6.0 9544       0\n",
      "\n",
      "pull_requests\n",
      " min  Q1  median  Q3    max  blanks\n",
      "   0 0.0     1.0 6.0 301585       0\n",
      "\n",
      "primary_language\n",
      "          primary_language  count\n",
      "                JavaScript 451954\n",
      "                    Python 451473\n",
      "                      Java 202394\n",
      "                       C++ 150066\n",
      "                       PHP 116058\n",
      "                TypeScript 114813\n",
      "                         C 111473\n",
      "                        C# 108625\n",
      "                        Go  93236\n",
      "                      HTML  93140\n",
      "                       ...    ...\n",
      "                    Gradle      1\n",
      "                    Turtle      1\n",
      "Velocity Template Language      1\n",
      "                     Grace      1\n",
      "             Unity3D Asset      1\n",
      "                LoomScript      1\n",
      "        Ragel in Ruby Host      1\n",
      "      Edje Data Collection      1\n",
      "                     Sieve      1\n",
      "                        Ox      1\n",
      "\n",
      "languages_used\n",
      "                                                                                     languages_used  count\n",
      "                                                                                         ['Python'] 257679\n",
      "                                                                                     ['JavaScript'] 157741\n",
      "                                                                                           ['Java'] 117624\n",
      "                                                                                             ['C#']  60299\n",
      "                                                                                            ['PHP']  56333\n",
      "                                                                                          ['Shell']  47143\n",
      "                                                                                ['Python', 'Shell']  42092\n",
      "                                                                                             ['Go']  40804\n",
      "                                                                      ['JavaScript', 'HTML', 'CSS']  39656\n",
      "                                                                      ['JavaScript', 'CSS', 'HTML']  35377\n",
      "                                                                                                ...    ...\n",
      "                ['JavaScript', 'CSS', 'HTML', 'C#', 'TSQL', 'ActionScript', 'Less', 'PHP', 'Shell']      1\n",
      "                              ['C', 'Assembly', 'Makefile', 'Shell', 'M4', 'Python', 'Roff', 'C++']      1\n",
      "                                            ['Kotlin', 'Java', 'Dockerfile', 'Shell', 'PowerShell']      1\n",
      "                                 ['TypeScript', 'JavaScript', 'CSS', 'HTML', 'Shell', 'PowerShell']      1\n",
      "['Dart', 'Go', 'HTML', 'Makefile', 'Dockerfile', 'Ruby', 'Shell', 'Swift', 'Kotlin', 'Objective-C']      1\n",
      "                                      ['Svelte', 'TypeScript', 'JavaScript', 'HTML', 'CSS', 'Rust']      1\n",
      "                                                ['Dockerfile', 'Shell', 'JavaScript', 'PowerShell']      1\n",
      "                                     ['TypeScript', 'HTML', 'Vue', 'JavaScript', 'Python', 'Shell']      1\n",
      "                                                         ['C++', 'C', 'Pascal', 'Batchfile', 'GDB']      1\n",
      "                                                        ['HTML', 'C++', 'TypeScript', 'JavaScript']      1\n",
      "\n",
      "commit_count\n",
      " min  Q1  median   Q3       max  blanks\n",
      " 1.0 9.0    27.0 89.0 4314502.0    1921\n",
      "\n",
      "created_at\n",
      "          created_at  count\n",
      "2017-06-05T20:53:54Z     10\n",
      "2017-06-05T20:53:58Z      9\n",
      "2014-01-17T08:00:09Z      8\n",
      "2010-05-26T23:38:08Z      7\n",
      "2019-03-29T08:13:35Z      7\n",
      "2010-06-10T19:21:23Z      7\n",
      "2014-01-17T08:00:07Z      7\n",
      "2015-12-02T08:00:06Z      7\n",
      "2010-06-10T19:21:22Z      7\n",
      "2014-01-17T08:00:08Z      6\n",
      "                 ...    ...\n",
      "2017-10-13T20:45:53Z      1\n",
      "2017-09-08T08:31:52Z      1\n",
      "2017-08-22T13:42:48Z      1\n",
      "2017-09-04T16:02:45Z      1\n",
      "2017-09-17T05:36:46Z      1\n",
      "2017-09-04T07:45:10Z      1\n",
      "2017-08-21T11:35:16Z      1\n",
      "2017-08-09T00:50:43Z      1\n",
      "2017-10-07T13:05:26Z      1\n",
      "2022-01-22T00:00:12Z      1\n",
      "\n",
      "licence\n",
      "                                                   licence  count\n",
      "                                               MIT License 784251\n",
      "                                        Apache License 2.0 210698\n",
      "                                                     Other 167987\n",
      "                           GNU General Public License v3.0 159443\n",
      "                   BSD 3-Clause \"New\" or \"Revised\" License  47078\n",
      "                           GNU General Public License v2.0  43297\n",
      "                    GNU Affero General Public License v3.0  21554\n",
      "                         BSD 2-Clause \"Simplified\" License  16819\n",
      "                                             The Unlicense  14400\n",
      "                    GNU Lesser General Public License v3.0  14002\n",
      "                                                       ...    ...\n",
      "              Open Data Commons Open Database License v1.0     57\n",
      "                        Educational Community License v2.0     25\n",
      "              Mulan Permissive Software License, Version 2     20\n",
      "                                               Vim License     20\n",
      "               CeCILL Free Software License Agreement v2.1     19\n",
      "                              Microsoft Reciprocal License     15\n",
      "         CERN Open Hardware Licence Version 2 - Permissive      4\n",
      "CERN Open Hardware Licence Version 2 - Strongly Reciprocal      2\n",
      "  CERN Open Hardware Licence Version 2 - Weakly Reciprocal      2\n",
      "                       GNU Free Documentation License v1.3      1\n",
      "\n"
     ]
    }
   ],
   "source": [
    "print(\"Analyzing repository_data.csv\")\n",
    "df_repository_data = pd.read_csv(\"data/github/repository_data.csv\")\n",
    "res = analyze_abstract_github(df_repository_data)\n",
    "result_dir = \"result/github/repository_data\"\n",
    "print_abstract(res)\n",
    "save_abstract(result_dir, res)"
   ]
  },
  {
   "cell_type": "markdown",
   "metadata": {
    "collapsed": false,
    "jupyter": {
     "outputs_hidden": false
    }
   },
   "source": [
    "运行结束后，可以在`./result/github/repository_data`目录中找到摘要分析结果。对于标称数据，表格包含两列：可能取值及其频数；对于数值数据，表格中包含6列，分别是`min`（最小值）、`Q1`（第一四分位数）、`median`（中位数）、`Q3`（第三四分位数）、`max`（最大值）、`blanks`（缺失数据个数。"
   ]
  },
  {
   "cell_type": "markdown",
   "metadata": {
    "collapsed": false,
    "jupyter": {
     "outputs_hidden": false
    }
   },
   "source": [
    "### 数据可视化\n",
    "\n",
    "下面对repository_data.csv的数据进行可视化，包含直方图、盒图。下面分别对两种图编写可视化函数。"
   ]
  },
  {
   "cell_type": "code",
   "execution_count": 3,
   "metadata": {
    "ExecuteTime": {
     "start_time": "2024-03-24T23:22:54.160573Z",
     "end_time": "2024-03-24T23:22:54.170643Z"
    },
    "collapsed": false,
    "jupyter": {
     "outputs_hidden": false
    }
   },
   "outputs": [],
   "source": [
    "def draw_histogram(df: pd.DataFrame):\n",
    "    for col in df.columns:\n",
    "        if df[col].dtype != object:\n",
    "            df.hist(column=col, bins=100)\n",
    "\n",
    "def draw_boxgram(df: pd.DataFrame):\n",
    "    df.boxplot()"
   ]
  },
  {
   "cell_type": "markdown",
   "metadata": {
    "collapsed": false,
    "jupyter": {
     "outputs_hidden": false
    }
   },
   "source": [
    "直方图"
   ]
  },
  {
   "cell_type": "code",
   "execution_count": 4,
   "metadata": {
    "ExecuteTime": {
     "start_time": "2024-03-24T23:22:54.170643Z",
     "end_time": "2024-03-24T23:22:55.336262Z"
    },
    "collapsed": false,
    "jupyter": {
     "outputs_hidden": false
    }
   },
   "outputs": [
    {
     "data": {
      "text/plain": "<Figure size 640x480 with 1 Axes>",
      "image/png": "[encoded data removed]"
     },
     "metadata": {},
     "output_type": "display_data"
    },
    {
     "data": {
      "text/plain": "<Figure size 640x480 with 1 Axes>",
      "image/png": "[encoded data removed]"
     },
     "metadata": {},
     "output_type": "display_data"
    },
    {
     "data": {
      "text/plain": "<Figure size 640x480 with 1 Axes>",
      "image/png": "[encoded data removed]"
     },
     "metadata": {},
     "output_type": "display_data"
    },
    {
     "data": {
      "text/plain": "<Figure size 640x480 with 1 Axes>",
      "image/png": "[encoded data removed]"
     },
     "metadata": {},
     "output_type": "display_data"
    },
    {
     "data": {
      "text/plain": "<Figure size 640x480 with 1 Axes>",
      "image/png": "[encoded data removed]"
     },
     "metadata": {},
     "output_type": "display_data"
    }
   ],
   "source": [
    "draw_histogram(df_repository_data)"
   ]
  },
  {
   "cell_type": "markdown",
   "metadata": {
    "collapsed": false,
    "jupyter": {
     "outputs_hidden": false
    }
   },
   "source": [
    "盒图"
   ]
  },
  {
   "cell_type": "code",
   "execution_count": 5,
   "metadata": {
    "ExecuteTime": {
     "start_time": "2024-03-24T23:22:55.336262Z",
     "end_time": "2024-03-24T23:23:06.980043Z"
    },
    "collapsed": false,
    "jupyter": {
     "outputs_hidden": false
    }
   },
   "outputs": [
    {
     "data": {
      "text/plain": "<Figure size 640x480 with 1 Axes>",
      "image/png": "[encoded data removed]"
     },
     "metadata": {},
     "output_type": "display_data"
    }
   ],
   "source": [
    "draw_boxgram(df_repository_data)"
   ]
  },
  {
   "cell_type": "markdown",
   "metadata": {
    "collapsed": false,
    "jupyter": {
     "outputs_hidden": false
    }
   },
   "source": [
    "## 2. 数据缺失处理"
   ]
  },
  {
   "cell_type": "markdown",
   "metadata": {
    "collapsed": false,
    "jupyter": {
     "outputs_hidden": false
    }
   },
   "source": [
    "从上面的数据分析中可以看出只有commit_count列里存在数据缺失，因此下面的实验仅在此列进行。\n",
    "\n",
    "首先是缺失数据剔除："
   ]
  },
  {
   "cell_type": "code",
   "execution_count": 6,
   "metadata": {
    "ExecuteTime": {
     "start_time": "2024-03-24T23:23:06.980043Z",
     "end_time": "2024-03-24T23:23:06.987896Z"
    },
    "collapsed": false,
    "jupyter": {
     "outputs_hidden": false
    }
   },
   "outputs": [
    {
     "name": "stdout",
     "output_type": "stream",
     "text": [
      "2917951\n"
     ]
    }
   ],
   "source": [
    "print(len(df_repository_data))"
   ]
  },
  {
   "cell_type": "code",
   "execution_count": 7,
   "metadata": {
    "ExecuteTime": {
     "start_time": "2024-03-24T23:23:06.984328Z",
     "end_time": "2024-03-24T23:23:07.162622Z"
    },
    "collapsed": false,
    "jupyter": {
     "outputs_hidden": false
    }
   },
   "outputs": [
    {
     "name": "stdout",
     "output_type": "stream",
     "text": [
      "2916030\n"
     ]
    }
   ],
   "source": [
    "df = df_repository_data[~df_repository_data[\"commit_count\"].isnull()]\n",
    "print(len(df))"
   ]
  },
  {
   "cell_type": "markdown",
   "metadata": {
    "collapsed": false,
    "jupyter": {
     "outputs_hidden": false
    }
   },
   "source": [
    "该数据减少量与上面分析的结果相符，删除了1921条数据。\n",
    "\n",
    "第二个是用最高频率值填补缺失值"
   ]
  },
  {
   "cell_type": "code",
   "execution_count": 8,
   "metadata": {
    "ExecuteTime": {
     "start_time": "2024-03-24T23:23:07.162622Z",
     "end_time": "2024-03-24T23:23:07.178658Z"
    },
    "collapsed": false,
    "jupyter": {
     "outputs_hidden": false
    }
   },
   "outputs": [
    {
     "name": "stdout",
     "output_type": "stream",
     "text": [
      "18104     NaN\n",
      "31627     NaN\n",
      "31774     NaN\n",
      "31906     NaN\n",
      "31919     NaN\n",
      "           ..\n",
      "2916733   NaN\n",
      "2917040   NaN\n",
      "2917177   NaN\n",
      "2917464   NaN\n",
      "2917641   NaN\n",
      "Name: commit_count, Length: 1921, dtype: float64\n"
     ]
    }
   ],
   "source": [
    "null_lines = df_repository_data[\"commit_count\"].isnull()\n",
    "print(df_repository_data[null_lines][\"commit_count\"])"
   ]
  },
  {
   "cell_type": "code",
   "execution_count": 9,
   "metadata": {
    "ExecuteTime": {
     "start_time": "2024-03-24T23:23:07.181170Z",
     "end_time": "2024-03-24T23:23:07.242721Z"
    },
    "collapsed": false,
    "jupyter": {
     "outputs_hidden": false
    }
   },
   "outputs": [
    {
     "name": "stdout",
     "output_type": "stream",
     "text": [
      "2.0\n"
     ]
    }
   ],
   "source": [
    "freq_max = df_repository_data[\"commit_count\"].value_counts().index[0]\n",
    "print(freq_max)"
   ]
  },
  {
   "cell_type": "code",
   "execution_count": 10,
   "metadata": {
    "ExecuteTime": {
     "start_time": "2024-03-24T23:23:07.226950Z",
     "end_time": "2024-03-24T23:23:07.305386Z"
    },
    "collapsed": false,
    "jupyter": {
     "outputs_hidden": false
    }
   },
   "outputs": [
    {
     "name": "stdout",
     "output_type": "stream",
     "text": [
      "18104      2.0\n",
      "31627      2.0\n",
      "31774      2.0\n",
      "31906      2.0\n",
      "31919      2.0\n",
      "          ... \n",
      "2916733    2.0\n",
      "2917040    2.0\n",
      "2917177    2.0\n",
      "2917464    2.0\n",
      "2917641    2.0\n",
      "Name: commit_count, Length: 1921, dtype: float64\n"
     ]
    }
   ],
   "source": [
    "df = df_repository_data[\"commit_count\"].fillna(freq_max)\n",
    "print(df[null_lines])"
   ]
  },
  {
   "cell_type": "markdown",
   "metadata": {
    "collapsed": false,
    "jupyter": {
     "outputs_hidden": false
    }
   },
   "source": [
    "可以看到缺失值均被填充为了2.0（最大频率值）。\n",
    "\n",
    "下面使用平均数来填充缺失值。"
   ]
  },
  {
   "cell_type": "code",
   "execution_count": 11,
   "metadata": {
    "ExecuteTime": {
     "start_time": "2024-03-24T23:23:07.305386Z",
     "end_time": "2024-03-24T23:23:07.353595Z"
    },
    "collapsed": false,
    "jupyter": {
     "outputs_hidden": false
    }
   },
   "outputs": [
    {
     "name": "stdout",
     "output_type": "stream",
     "text": [
      "614.3709265679709\n"
     ]
    }
   ],
   "source": [
    "mean = df_repository_data[\"commit_count\"].mean()\n",
    "print(mean)"
   ]
  },
  {
   "cell_type": "code",
   "execution_count": 12,
   "metadata": {
    "ExecuteTime": {
     "start_time": "2024-03-24T23:23:07.337525Z",
     "end_time": "2024-03-24T23:23:07.353595Z"
    },
    "collapsed": false,
    "jupyter": {
     "outputs_hidden": false
    }
   },
   "outputs": [
    {
     "name": "stdout",
     "output_type": "stream",
     "text": [
      "18104      614.370927\n",
      "31627      614.370927\n",
      "31774      614.370927\n",
      "31906      614.370927\n",
      "31919      614.370927\n",
      "              ...    \n",
      "2916733    614.370927\n",
      "2917040    614.370927\n",
      "2917177    614.370927\n",
      "2917464    614.370927\n",
      "2917641    614.370927\n",
      "Name: commit_count, Length: 1921, dtype: float64\n"
     ]
    }
   ],
   "source": [
    "df = df_repository_data[\"commit_count\"].fillna(mean)\n",
    "print(df[null_lines])"
   ]
  },
  {
   "cell_type": "markdown",
   "metadata": {
    "collapsed": false,
    "jupyter": {
     "outputs_hidden": false
    }
   },
   "source": [
    "空值均被填充为了平均数\n",
    "\n",
    "下面使用前后值来填充"
   ]
  },
  {
   "cell_type": "code",
   "execution_count": 13,
   "metadata": {
    "ExecuteTime": {
     "start_time": "2024-03-24T23:23:07.355893Z",
     "end_time": "2024-03-24T23:23:07.413688Z"
    },
    "collapsed": false,
    "jupyter": {
     "outputs_hidden": false
    }
   },
   "outputs": [
    {
     "name": "stdout",
     "output_type": "stream",
     "text": [
      "18104      1489.0\n",
      "31627       561.0\n",
      "31774       367.0\n",
      "31906        51.0\n",
      "31919       160.0\n",
      "            ...  \n",
      "2916733       3.0\n",
      "2917040       4.0\n",
      "2917177      47.0\n",
      "2917464       4.0\n",
      "2917641       8.0\n",
      "Name: commit_count, Length: 1921, dtype: float64\n"
     ]
    }
   ],
   "source": [
    "df = df_repository_data[\"commit_count\"].fillna(method=\"pad\")\n",
    "print(df[null_lines])"
   ]
  }
 ],
 "metadata": {
  "kernelspec": {
   "display_name": "Python 3 (ipykernel)",
   "language": "python",
   "name": "python3"
  },
  "language_info": {
   "codemirror_mode": {
    "name": "ipython",
    "version": 3
   },
   "file_extension": ".py",
   "mimetype": "text/x-python",
   "name": "python",
   "nbconvert_exporter": "python",
   "pygments_lexer": "ipython3",
   "version": "3.9.1"
  }
 },
 "nbformat": 4,
 "nbformat_minor": 4
}
